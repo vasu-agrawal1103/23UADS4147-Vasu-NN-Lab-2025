{
 "cells": [
  {
   "cell_type": "markdown",
   "metadata": {},
   "source": [
    "**Objective:-**\n",
    "\n",
    "WAP to implement a multi-layer perceptron (MLP) network with one hidden \n",
    "layer using numpy in Python. Demonstrate that it can learn the XOR Boolean function.\n"
   ]
  },
  {
   "cell_type": "code",
   "execution_count": 16,
   "metadata": {},
   "outputs": [],
   "source": [
    "import numpy as np\n",
    "class MLP_XOR:\n",
    "    def __init__(self, input_size=2, hidden_size=2, lr=0.1, epochs=500):\n",
    "        self.lr = lr  # Learning rate\n",
    "        self.epochs = epochs  # Number of training iterations\n",
    "        \n",
    "        # Initialize weights and biases\n",
    "        self.W1 = np.random.randn(hidden_size, input_size)\n",
    "        self.b1 = np.random.randn(hidden_size)\n",
    "        self.W2 = np.random.randn(1, hidden_size)\n",
    "        self.b2 = np.random.randn(1)\n",
    "    \n",
    "    def step_function(self, x):\n",
    "        return 1 if x >= 0 else 0\n",
    "    \n",
    "    def forward(self, x):\n",
    "        hidden_input = np.dot(self.W1, x) + self.b1\n",
    "        hidden_output = np.array([self.step_function(h) for h in hidden_input])\n",
    "        output_input = np.dot(self.W2, hidden_output) + self.b2\n",
    "        output = self.step_function(output_input)\n",
    "        return hidden_output, output\n",
    "    \n",
    "    def train(self, X, y):\n",
    "        for _ in range(self.epochs):\n",
    "            for i in range(len(X)):\n",
    "                # Forward pass\n",
    "                hidden_output, output = self.forward(X[i])\n",
    "                \n",
    "                # Compute error\n",
    "                error = y[i] - output\n",
    "                \n",
    "                # Update weights for output layer\n",
    "                self.W2 += self.lr * error * hidden_output.reshape(1, -1)\n",
    "                self.b2 += self.lr * error\n",
    "\n",
    "                # Update weights for hidden layer (only if output is wrong)\n",
    "                if error != 0:  \n",
    "                    self.W1 += self.lr * error * np.outer(hidden_output, X[i])\n",
    "                    self.b1 += self.lr * error\n",
    "    \n",
    "    def predict(self, x):\n",
    "        _, output = self.forward(x)\n",
    "        return output\n",
    "    \n",
    "    def evaluate(self, X, y):\n",
    "        correct = sum(self.predict(X[i]) == y[i] for i in range(len(X)))\n",
    "        accuracy = correct / len(y)\n",
    "        print(f\"Accuracy: {accuracy * 100:.2f}%\")\n"
   ]
  },
  {
   "cell_type": "code",
   "execution_count": 17,
   "metadata": {},
   "outputs": [],
   "source": [
    "\n",
    "# XOR truth table\n",
    "XOR_X = np.array([[0, 0], [0, 1], [1, 0], [1, 1]])\n",
    "XOR_y = np.array([0, 1, 1, 0])"
   ]
  },
  {
   "cell_type": "code",
   "execution_count": 18,
   "metadata": {},
   "outputs": [
    {
     "name": "stdout",
     "output_type": "stream",
     "text": [
      "Training MLP for XOR Gate:\n"
     ]
    },
    {
     "name": "stdout",
     "output_type": "stream",
     "text": [
      "Accuracy: 75.00%\n"
     ]
    }
   ],
   "source": [
    "# Train and evaluate the MLP\n",
    "print(\"Training MLP for XOR Gate:\")\n",
    "mlp = MLP_XOR()\n",
    "mlp.train(XOR_X, XOR_y)\n",
    "mlp.evaluate(XOR_X, XOR_y)"
   ]
  },
  {
   "cell_type": "code",
   "execution_count": null,
   "metadata": {},
   "outputs": [],
   "source": []
  }
 ],
 "metadata": {
  "kernelspec": {
   "display_name": "Python 3",
   "language": "python",
   "name": "python3"
  },
  "language_info": {
   "codemirror_mode": {
    "name": "ipython",
    "version": 3
   },
   "file_extension": ".py",
   "mimetype": "text/x-python",
   "name": "python",
   "nbconvert_exporter": "python",
   "pygments_lexer": "ipython3",
   "version": "3.12.6"
  }
 },
 "nbformat": 4,
 "nbformat_minor": 2
}
