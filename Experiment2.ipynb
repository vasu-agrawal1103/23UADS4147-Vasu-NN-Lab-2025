{
 "cells": [
  {
   "cell_type": "code",
   "execution_count": 1,
   "metadata": {},
   "outputs": [],
   "source": [
    "import numpy as np"
   ]
  },
  {
   "cell_type": "markdown",
   "metadata": {},
   "source": [
    "Model Description: MLP XOR Classifier\n",
    "This model is a Multi-Layer Perceptron (MLP) designed to classify XOR logic gate outputs using a step activation function.\n",
    "\n",
    "🔹 Model Architecture\n",
    "Input Layer: 2 neurons (for XOR inputs).\n",
    "Hidden Layer: 2 neurons (processing XOR patterns).\n",
    "Output Layer: 1 neuron (final XOR classification).\n",
    "Activation Function: Step function (binary thresholding).\n",
    "🔹 Training Process\n",
    "Uses a basic weight update rule (no backpropagation).\n",
    "Adjusts weights based on error correction after each sample.\n",
    "Learns to correctly classify XOR outputs after multiple epochs.\n",
    "🔹 Performance\n",
    "✅ Achieves 100% accuracy after training.\n",
    "✅ Demonstrates how a simple perceptron-based model can solve nonlinear problems.\n",
    "\n",
    "This model highlights the effectiveness of MLPs in handling non-linearly separable problems like XOR. 🚀"
   ]
  },
  {
   "cell_type": "code",
   "execution_count": 24,
   "metadata": {},
   "outputs": [],
   "source": [
    "class MLP_XOR:\n",
    "    def __init__(self, input_size=2, hidden_size=2, lr=0.1, epochs=150):\n",
    "        self.lr = lr  # Learning rate\n",
    "        self.epochs = epochs  # Number of training iterations\n",
    "        \n",
    "        # Initialize weights and biases\n",
    "        self.W1 = np.random.randn(hidden_size, input_size)\n",
    "        self.b1 = np.random.randn(hidden_size)\n",
    "        self.W2 = np.random.randn(1, hidden_size)\n",
    "        self.b2 = np.random.randn(1)\n",
    "    \n",
    "    def step_function(self, x):\n",
    "        return 1 if x >= 0 else 0\n",
    "    \n",
    "    def forward(self, x):\n",
    "        hidden_input = np.dot(self.W1, x) + self.b1\n",
    "        hidden_output = np.array([self.step_function(h) for h in hidden_input])\n",
    "        output_input = np.dot(self.W2, hidden_output) + self.b2\n",
    "        output = self.step_function(output_input)\n",
    "        return hidden_output, output\n",
    "    \n",
    "    def train(self, X, y):\n",
    "        for _ in range(self.epochs):\n",
    "            for i in range(len(X)):\n",
    "                # Forward pass\n",
    "                hidden_output, output = self.forward(X[i])\n",
    "                \n",
    "                # Compute error\n",
    "                error = y[i] - output\n",
    "                \n",
    "                # Update weights for output layer\n",
    "                self.W2 += self.lr * error * hidden_output.reshape(1, -1)\n",
    "                self.b2 += self.lr * error\n",
    "\n",
    "                # Update weights for hidden layer (only if output is wrong)\n",
    "                if error != 0:  \n",
    "                    self.W1 += self.lr * error * np.outer(hidden_output, X[i])\n",
    "                    self.b1 += self.lr * error\n",
    "    \n",
    "    def predict(self, x):\n",
    "        _, output = self.forward(x)\n",
    "        return output\n",
    "    \n",
    "    def evaluate(self, X, y):\n",
    "        correct = sum(self.predict(X[i]) == y[i] for i in range(len(X)))\n",
    "        accuracy = correct / len(y)\n",
    "        print(f\"Accuracy: {accuracy * 100:.2f}%\")\n"
   ]
  },
  {
   "cell_type": "code",
   "execution_count": 25,
   "metadata": {},
   "outputs": [],
   "source": [
    "\n",
    "# XOR truth table\n",
    "XOR_X = np.array([[0, 0], [0, 1], [1, 0], [1, 1]])\n",
    "XOR_y = np.array([0, 1, 1, 0])"
   ]
  },
  {
   "cell_type": "code",
   "execution_count": 26,
   "metadata": {},
   "outputs": [
    {
     "name": "stdout",
     "output_type": "stream",
     "text": [
      "Training MLP for XOR Gate:\n",
      "Accuracy: 100.00%\n"
     ]
    }
   ],
   "source": [
    "# Train and evaluate the MLP\n",
    "print(\"Training MLP for XOR Gate:\")\n",
    "mlp = MLP_XOR()\n",
    "mlp.train(XOR_X, XOR_y)\n",
    "mlp.evaluate(XOR_X, XOR_y)"
   ]
  },
  {
   "cell_type": "markdown",
   "metadata": {},
   "source": [
    "MLP XOR Classifier – Code Description\n",
    "This Python script implements a Multi-Layer Perceptron (MLP) to solve the XOR problem using a step function as the activation function.\n",
    "\n",
    "🔹 Key Components\n",
    "Initialization (__init__): Defines a 2-2-1 neural network with randomly initialized weights and biases.\n",
    "Step Function: Outputs 1 if input ≥ 0, else 0.\n",
    "Forward Propagation (forward): Computes activations for the hidden and output layers.\n",
    "Training (train): Updates weights and biases using error correction.\n",
    "Prediction (predict): Performs a forward pass to classify inputs.\n",
    "Evaluation (evaluate): Calculates and prints model accuracy.\n",
    "🔹 Usage\n",
    "Defines the XOR dataset.\n",
    "Trains the model and evaluates accuracy.\n",
    "🔹 Expected Output\n",
    "✅ 100% accuracy on XOR classification.\n",
    "\n",
    "This step-function-based MLP demonstrates how a simple learning rule can solve the XOR problem efficiently. 🚀"
   ]
  },
  {
   "cell_type": "code",
   "execution_count": null,
   "metadata": {},
   "outputs": [],
   "source": []
  }
 ],
 "metadata": {
  "kernelspec": {
   "display_name": "Python 3",
   "language": "python",
   "name": "python3"
  },
  "language_info": {
   "codemirror_mode": {
    "name": "ipython",
    "version": 3
   },
   "file_extension": ".py",
   "mimetype": "text/x-python",
   "name": "python",
   "nbconvert_exporter": "python",
   "pygments_lexer": "ipython3",
   "version": "3.12.6"
  }
 },
 "nbformat": 4,
 "nbformat_minor": 2
}
