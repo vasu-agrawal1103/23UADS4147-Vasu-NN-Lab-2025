{
 "cells": [
  {
   "cell_type": "markdown",
   "metadata": {},
   "source": [
    "Experiment 1"
   ]
  },
  {
   "cell_type": "markdown",
   "metadata": {},
   "source": [
    "**Objective:-**\n",
    "WAP to implement the Perceptron Learning Algorithm using numpy in Python.\n",
    "Evaluate performance of a single perceptron for NAND and XOR truth tables as input\n",
    "dataset."
   ]
  },
  {
   "cell_type": "markdown",
   "metadata": {},
   "source": [
    "**Model Description:**\n",
    "\n",
    "Perceptron Classifier\n",
    "This is a single-layer Perceptron model designed for binary classification tasks using a step activation function.\n",
    "\n",
    "🔹 Model Architecture\n",
    "\n",
    "Inputs: n features + bias term.\n",
    "\n",
    "Weights: Randomly initialized, including bias.\n",
    "\n",
    "Activation Function: Step function (1 if input ≥ 0, else 0).\n",
    "\n",
    "Learning Rule: Perceptron learning algorithm (weight updates based on error correction).\n",
    "\n",
    "\n",
    "🔹 Training Process\n",
    "\n",
    "Forward Pass: Computes weighted sum and applies step activation.\n",
    "\n",
    "Weight Update:\n",
    "w=w+η×(target−output)×input\n",
    "η = Learning rate\n",
    "Only updates weights when the output is incorrect."
   ]
  },
  {
   "cell_type": "code",
   "execution_count": 13,
   "metadata": {},
   "outputs": [],
   "source": [
    "import numpy as np"
   ]
  },
  {
   "cell_type": "code",
   "execution_count": 10,
   "metadata": {},
   "outputs": [],
   "source": [
    "class Perceptron:\n",
    "    def __init__(self, input_size, learning_rate=0.1, epochs=500):\n",
    "        self.weights = np.random.randn(input_size + 1)  # Including bias\n",
    "        self.learning_rate = learning_rate\n",
    "        self.epochs = epochs\n",
    "    \n",
    "    def activation(self, x):\n",
    "        return 1 if x >= 0 else 0\n",
    "    \n",
    "    def predict(self, x):\n",
    "        x = np.insert(x, 0, 1)  # Bias term\n",
    "        return self.activation(np.dot(self.weights, x))\n",
    "    \n",
    "    def train(self, X, y):\n",
    "        for _ in range(self.epochs):\n",
    "            for xi, target in zip(X, y):\n",
    "                xi = np.insert(xi, 0, 1)  # Adding bias term\n",
    "                output = self.activation(np.dot(self.weights, xi))\n",
    "                self.weights += self.learning_rate * (target - output) * xi\n",
    "\n",
    "    def evaluate(self, X, y):\n",
    "        predictions = [self.predict(xi) for xi in X]\n",
    "        accuracy = sum(p == t for p, t in zip(predictions, y)) / len(y)\n",
    "        return accuracy\n"
   ]
  },
  {
   "cell_type": "code",
   "execution_count": 11,
   "metadata": {},
   "outputs": [],
   "source": [
    "# NAND Dataset\n",
    "nand_X = np.array([[0, 0], [0, 1], [1, 0], [1, 1]])\n",
    "nand_y = np.array([1, 1, 1, 0])  # NAND truth table\n",
    "\n",
    "# XOR Dataset\n",
    "xor_X = np.array([[0, 0], [0, 1], [1, 0], [1, 1]])\n",
    "xor_y = np.array([0, 1, 1, 0])  # XOR truth table"
   ]
  },
  {
   "cell_type": "code",
   "execution_count": 12,
   "metadata": {},
   "outputs": [
    {
     "name": "stdout",
     "output_type": "stream",
     "text": [
      "NAND Perceptron Accuracy: 100.00%\n",
      "XOR Perceptron Accuracy: 50.00%\n"
     ]
    }
   ],
   "source": [
    "# Train Perceptron for NAND\n",
    "nand_perceptron = Perceptron(input_size=2)\n",
    "nand_perceptron.train(nand_X, nand_y)\n",
    "nand_accuracy = nand_perceptron.evaluate(nand_X, nand_y)\n",
    "print(f\"NAND Perceptron Accuracy: {nand_accuracy * 100:.2f}%\")\n",
    "\n",
    "# Train Perceptron for XOR\n",
    "xor_perceptron = Perceptron(input_size=2)\n",
    "xor_perceptron.train(xor_X, xor_y)\n",
    "xor_accuracy = xor_perceptron.evaluate(xor_X, xor_y)\n",
    "print(f\"XOR Perceptron Accuracy: {xor_accuracy * 100:.2f}%\")"
   ]
  },
  {
   "cell_type": "markdown",
   "metadata": {},
   "source": [
    "**Performance Evaluation:**\n",
    "The NAND perceptron achieves high accuracy, while the XOR perceptron fails due to non\u0002linearity.\n"
   ]
  },
  {
   "cell_type": "markdown",
   "metadata": {},
   "source": [
    "**My Comments:**\n",
    "\n",
    "The perceptron works well for linearly separable data but fails for non-linearly separable \n",
    "data. Future improvements could involve using a multi-layer perceptron or adding hidden \n",
    "layers to handle non-linearity.\n"
   ]
  },
  {
   "cell_type": "code",
   "execution_count": null,
   "metadata": {},
   "outputs": [],
   "source": []
  }
 ],
 "metadata": {
  "kernelspec": {
   "display_name": "Python 3",
   "language": "python",
   "name": "python3"
  },
  "language_info": {
   "codemirror_mode": {
    "name": "ipython",
    "version": 3
   },
   "file_extension": ".py",
   "mimetype": "text/x-python",
   "name": "python",
   "nbconvert_exporter": "python",
   "pygments_lexer": "ipython3",
   "version": "3.12.6"
  }
 },
 "nbformat": 4,
 "nbformat_minor": 2
}
