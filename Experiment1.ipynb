{
 "cells": [
  {
   "cell_type": "markdown",
   "metadata": {},
   "source": [
    "Experiment 1"
   ]
  },
  {
   "cell_type": "markdown",
   "metadata": {},
   "source": [
    "Objective:-WAP to implement the Perceptron Learning Algorithm using numpy in Python.\n",
    "Evaluate performance of a single perceptron for NAND and XOR truth tables as input\n",
    "dataset."
   ]
  },
  {
   "cell_type": "code",
   "execution_count": null,
   "metadata": {},
   "outputs": [],
   "source": [
    "import numpy as np"
   ]
  },
  {
   "cell_type": "markdown",
   "metadata": {},
   "source": [
    "Model Description: Perceptron Classifier\n",
    "This is a single-layer Perceptron model designed for binary classification tasks using a step activation function.\n",
    "\n",
    "🔹 Model Architecture\n",
    "Inputs: n features + bias term.\n",
    "Weights: Randomly initialized, including bias.\n",
    "Activation Function: Step function (1 if input ≥ 0, else 0).\n",
    "Learning Rule: Perceptron learning algorithm (weight updates based on error correction).\n",
    "🔹 Training Process\n",
    "Forward Pass: Computes weighted sum and applies step activation.\n",
    "Weight Update:\n",
    "w=w+η×(target−output)×input\n",
    "η = Learning rate\n",
    "Only updates weights when the output is incorrect."
   ]
  },
  {
   "cell_type": "code",
   "execution_count": null,
   "metadata": {},
   "outputs": [],
   "source": [
    "class MLP_XOR:\n",
    "    def __init__(self, input_size=2, hidden_size=2, lr=0.1, epochs=150):\n",
    "        self.lr = lr  # Learning rate\n",
    "        self.epochs = epochs  # Number of training iterations\n",
    "        \n",
    "        # Initialize weights and biases\n",
    "        self.W1 = np.random.randn(hidden_size, input_size)\n",
    "        self.b1 = np.random.randn(hidden_size)\n",
    "        self.W2 = np.random.randn(1, hidden_size)\n",
    "        self.b2 = np.random.randn(1)\n",
    "    \n",
    "    def step_function(self, x):\n",
    "        return 1 if x >= 0 else 0\n",
    "    \n",
    "    def forward(self, x):\n",
    "        hidden_input = np.dot(self.W1, x) + self.b1\n",
    "        hidden_output = np.array([self.step_function(h) for h in hidden_input])\n",
    "        output_input = np.dot(self.W2, hidden_output) + self.b2\n",
    "        output = self.step_function(output_input)\n",
    "        return hidden_output, output\n",
    "    \n",
    "    def train(self, X, y):\n",
    "        for _ in range(self.epochs):\n",
    "            for i in range(len(X)):\n",
    "                # Forward pass\n",
    "                hidden_output, output = self.forward(X[i])\n",
    "                \n",
    "                # Compute error\n",
    "                error = y[i] - output\n",
    "                \n",
    "                # Update weights for output layer\n",
    "                self.W2 += self.lr * error * hidden_output.reshape(1, -1)\n",
    "                self.b2 += self.lr * error\n",
    "\n",
    "                # Update weights for hidden layer (only if output is wrong)\n",
    "                if error != 0:  \n",
    "                    self.W1 += self.lr * error * np.outer(hidden_output, X[i])\n",
    "                    self.b1 += self.lr * error\n",
    "    \n",
    "    def predict(self, x):\n",
    "        _, output = self.forward(x)\n",
    "        return output\n",
    "    \n",
    "    def evaluate(self, X, y):\n",
    "        correct = sum(self.predict(X[i]) == y[i] for i in range(len(X)))\n",
    "        accuracy = correct / len(y)\n",
    "        print(f\"Accuracy: {accuracy * 100:.2f}%\")\n"
   ]
  },
  {
   "cell_type": "code",
   "execution_count": 5,
   "metadata": {},
   "outputs": [],
   "source": [
    "class Perceptron:\n",
    "    def __init__(self, input_size, learning_rate=0.1, epochs=500):\n",
    "        self.weights = np.random.randn(input_size + 1)  # Including bias\n",
    "        self.learning_rate = learning_rate\n",
    "        self.epochs = epochs\n",
    "    \n",
    "    def activation(self, x):\n",
    "        return 1 if x >= 0 else 0\n",
    "    \n",
    "    def predict(self, x):\n",
    "        x = np.insert(x, 0, 1)  # Bias term\n",
    "        return self.activation(np.dot(self.weights, x))\n",
    "    \n",
    "    def train(self, X, y):\n",
    "        for _ in range(self.epochs):\n",
    "            for xi, target in zip(X, y):\n",
    "                xi = np.insert(xi, 0, 1)  # Adding bias term\n",
    "                output = self.activation(np.dot(self.weights, xi))\n",
    "                self.weights += self.learning_rate * (target - output) * xi\n",
    "\n",
    "    def evaluate(self, X, y):\n",
    "        predictions = [self.predict(xi) for xi in X]\n",
    "        accuracy = sum(p == t for p, t in zip(predictions, y)) / len(y)\n",
    "        return accuracy\n"
   ]
  },
  {
   "cell_type": "code",
   "execution_count": 6,
   "metadata": {},
   "outputs": [],
   "source": [
    "# NAND Dataset\n",
    "nand_X = np.array([[0, 0], [0, 1], [1, 0], [1, 1]])\n",
    "nand_y = np.array([1, 1, 1, 0])  # NAND truth table\n",
    "\n",
    "# XOR Dataset\n",
    "xor_X = np.array([[0, 0], [0, 1], [1, 0], [1, 1]])\n",
    "xor_y = np.array([0, 1, 1, 0])  # XOR truth table"
   ]
  },
  {
   "cell_type": "code",
   "execution_count": 7,
   "metadata": {},
   "outputs": [
    {
     "name": "stdout",
     "output_type": "stream",
     "text": [
      "NAND Perceptron Accuracy: 100.00%\n",
      "XOR Perceptron Accuracy: 50.00%\n"
     ]
    }
   ],
   "source": [
    "# Train Perceptron for NAND\n",
    "nand_perceptron = Perceptron(input_size=2)\n",
    "nand_perceptron.train(nand_X, nand_y)\n",
    "nand_accuracy = nand_perceptron.evaluate(nand_X, nand_y)\n",
    "print(f\"NAND Perceptron Accuracy: {nand_accuracy * 100:.2f}%\")\n",
    "\n",
    "# Train Perceptron for XOR\n",
    "xor_perceptron = Perceptron(input_size=2)\n",
    "xor_perceptron.train(xor_X, xor_y)\n",
    "xor_accuracy = xor_perceptron.evaluate(xor_X, xor_y)\n",
    "print(f\"XOR Perceptron Accuracy: {xor_accuracy * 100:.2f}%\")"
   ]
  },
  {
   "cell_type": "code",
   "execution_count": null,
   "metadata": {},
   "outputs": [],
   "source": []
  }
 ],
 "metadata": {
  "kernelspec": {
   "display_name": "Python 3",
   "language": "python",
   "name": "python3"
  },
  "language_info": {
   "codemirror_mode": {
    "name": "ipython",
    "version": 3
   },
   "file_extension": ".py",
   "mimetype": "text/x-python",
   "name": "python",
   "nbconvert_exporter": "python",
   "pygments_lexer": "ipython3",
   "version": "3.12.6"
  }
 },
 "nbformat": 4,
 "nbformat_minor": 2
}
